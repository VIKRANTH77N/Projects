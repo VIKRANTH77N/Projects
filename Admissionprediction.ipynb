{
  "nbformat": 4,
  "nbformat_minor": 0,
  "metadata": {
    "colab": {
      "provenance": []
    },
    "kernelspec": {
      "name": "python3",
      "display_name": "Python 3"
    },
    "language_info": {
      "name": "python"
    }
  },
  "cells": [
    {
      "cell_type": "markdown",
      "source": [
        "We will import the library to start the analysis.\n"
      ],
      "metadata": {
        "id": "oLPwzpYXIa4b"
      }
    },
    {
      "cell_type": "code",
      "execution_count": null,
      "metadata": {
        "id": "ZwmO0YHhDDP0"
      },
      "outputs": [],
      "source": [
        "import pandas as pd"
      ]
    },
    {
      "cell_type": "markdown",
      "source": [
        "We will now read the data file."
      ],
      "metadata": {
        "id": "gOofTq7oIheL"
      }
    },
    {
      "cell_type": "code",
      "source": [
        "admission = pd.read_csv('https://github.com/YBIFoundation/Dataset/raw/main/Admission%20Chance.csv')"
      ],
      "metadata": {
        "id": "omlib2RJDJF9"
      },
      "execution_count": null,
      "outputs": []
    },
    {
      "cell_type": "markdown",
      "source": [
        "After reading the data file, using .columns function we shall identify what all columns are there in the data set and then identify the independent and dependent variables."
      ],
      "metadata": {
        "id": "CU_Uzt4-ImfJ"
      }
    },
    {
      "cell_type": "code",
      "source": [
        "admission.columns\n"
      ],
      "metadata": {
        "colab": {
          "base_uri": "https://localhost:8080/"
        },
        "id": "3ZtqAkcBD3-r",
        "outputId": "0ca3374f-d8a4-4578-9156-656477a21eaa"
      },
      "execution_count": null,
      "outputs": [
        {
          "output_type": "execute_result",
          "data": {
            "text/plain": [
              "Index(['Serial No', 'GRE Score', 'TOEFL Score', 'University Rating', ' SOP',\n",
              "       'LOR ', 'CGPA', 'Research', 'Chance of Admit '],\n",
              "      dtype='object')"
            ]
          },
          "metadata": {},
          "execution_count": 5
        }
      ]
    },
    {
      "cell_type": "markdown",
      "source": [
        "After identifying the columns , now we shall identify our x,y the targets in our data set."
      ],
      "metadata": {
        "id": "1sJUhVNBJFos"
      }
    },
    {
      "cell_type": "code",
      "source": [
        "y = admission['Chance of Admit ']"
      ],
      "metadata": {
        "id": "uC8cYhf5Dm5G"
      },
      "execution_count": null,
      "outputs": []
    },
    {
      "cell_type": "code",
      "source": [
        "x = admission[['Serial No', 'GRE Score', 'TOEFL Score', 'University Rating', ' SOP',\n",
        "       'LOR ', 'CGPA', 'Research']]"
      ],
      "metadata": {
        "id": "wpFhOuarDu9w"
      },
      "execution_count": null,
      "outputs": []
    },
    {
      "cell_type": "markdown",
      "source": [
        "Once the target is sorted, we shall use sklearn library to sort the data in training and testing ."
      ],
      "metadata": {
        "id": "35N5S0VtJSlA"
      }
    },
    {
      "cell_type": "code",
      "source": [
        "from sklearn.model_selection import train_test_split\n",
        "x_train,x_test,y_train,y_test=train_test_split(x,y,train_size=0.7,random_state =2529)"
      ],
      "metadata": {
        "id": "vPtZAhj9ELIK"
      },
      "execution_count": null,
      "outputs": []
    },
    {
      "cell_type": "markdown",
      "source": [
        "Now we shall check the shape of training and testing variables using the .shape function"
      ],
      "metadata": {
        "id": "AnsvTIj4JfD1"
      }
    },
    {
      "cell_type": "code",
      "source": [
        "x_train.shape,x_test.shape,y_train.shape,y_test.shape"
      ],
      "metadata": {
        "colab": {
          "base_uri": "https://localhost:8080/"
        },
        "id": "QfXWnunWGHgJ",
        "outputId": "14c328d7-4720-414d-cd36-43d059951281"
      },
      "execution_count": null,
      "outputs": [
        {
          "output_type": "execute_result",
          "data": {
            "text/plain": [
              "((280, 8), (120, 8), (280,), (120,))"
            ]
          },
          "metadata": {},
          "execution_count": 21
        }
      ]
    },
    {
      "cell_type": "markdown",
      "source": [
        "Now it is time to select the model for our analysis using sklearn library\n"
      ],
      "metadata": {
        "id": "YKaJsHsYJq1B"
      }
    },
    {
      "cell_type": "code",
      "source": [
        "from sklearn.linear_model import LinearRegression\n",
        "model = LinearRegression()"
      ],
      "metadata": {
        "id": "A4ThflLiGUmv"
      },
      "execution_count": null,
      "outputs": []
    },
    {
      "cell_type": "markdown",
      "source": [
        "Now we shall train/fit the data according to the model."
      ],
      "metadata": {
        "id": "HJ2CVhe0J0Zp"
      }
    },
    {
      "cell_type": "code",
      "source": [
        "model.fit(x_train,y_train)"
      ],
      "metadata": {
        "colab": {
          "base_uri": "https://localhost:8080/",
          "height": 74
        },
        "id": "CavqhMokGgMv",
        "outputId": "1f74628a-31b2-4ed5-f38e-cff96a726340"
      },
      "execution_count": null,
      "outputs": [
        {
          "output_type": "execute_result",
          "data": {
            "text/plain": [
              "LinearRegression()"
            ],
            "text/html": [
              "<style>#sk-container-id-1 {color: black;background-color: white;}#sk-container-id-1 pre{padding: 0;}#sk-container-id-1 div.sk-toggleable {background-color: white;}#sk-container-id-1 label.sk-toggleable__label {cursor: pointer;display: block;width: 100%;margin-bottom: 0;padding: 0.3em;box-sizing: border-box;text-align: center;}#sk-container-id-1 label.sk-toggleable__label-arrow:before {content: \"▸\";float: left;margin-right: 0.25em;color: #696969;}#sk-container-id-1 label.sk-toggleable__label-arrow:hover:before {color: black;}#sk-container-id-1 div.sk-estimator:hover label.sk-toggleable__label-arrow:before {color: black;}#sk-container-id-1 div.sk-toggleable__content {max-height: 0;max-width: 0;overflow: hidden;text-align: left;background-color: #f0f8ff;}#sk-container-id-1 div.sk-toggleable__content pre {margin: 0.2em;color: black;border-radius: 0.25em;background-color: #f0f8ff;}#sk-container-id-1 input.sk-toggleable__control:checked~div.sk-toggleable__content {max-height: 200px;max-width: 100%;overflow: auto;}#sk-container-id-1 input.sk-toggleable__control:checked~label.sk-toggleable__label-arrow:before {content: \"▾\";}#sk-container-id-1 div.sk-estimator input.sk-toggleable__control:checked~label.sk-toggleable__label {background-color: #d4ebff;}#sk-container-id-1 div.sk-label input.sk-toggleable__control:checked~label.sk-toggleable__label {background-color: #d4ebff;}#sk-container-id-1 input.sk-hidden--visually {border: 0;clip: rect(1px 1px 1px 1px);clip: rect(1px, 1px, 1px, 1px);height: 1px;margin: -1px;overflow: hidden;padding: 0;position: absolute;width: 1px;}#sk-container-id-1 div.sk-estimator {font-family: monospace;background-color: #f0f8ff;border: 1px dotted black;border-radius: 0.25em;box-sizing: border-box;margin-bottom: 0.5em;}#sk-container-id-1 div.sk-estimator:hover {background-color: #d4ebff;}#sk-container-id-1 div.sk-parallel-item::after {content: \"\";width: 100%;border-bottom: 1px solid gray;flex-grow: 1;}#sk-container-id-1 div.sk-label:hover label.sk-toggleable__label {background-color: #d4ebff;}#sk-container-id-1 div.sk-serial::before {content: \"\";position: absolute;border-left: 1px solid gray;box-sizing: border-box;top: 0;bottom: 0;left: 50%;z-index: 0;}#sk-container-id-1 div.sk-serial {display: flex;flex-direction: column;align-items: center;background-color: white;padding-right: 0.2em;padding-left: 0.2em;position: relative;}#sk-container-id-1 div.sk-item {position: relative;z-index: 1;}#sk-container-id-1 div.sk-parallel {display: flex;align-items: stretch;justify-content: center;background-color: white;position: relative;}#sk-container-id-1 div.sk-item::before, #sk-container-id-1 div.sk-parallel-item::before {content: \"\";position: absolute;border-left: 1px solid gray;box-sizing: border-box;top: 0;bottom: 0;left: 50%;z-index: -1;}#sk-container-id-1 div.sk-parallel-item {display: flex;flex-direction: column;z-index: 1;position: relative;background-color: white;}#sk-container-id-1 div.sk-parallel-item:first-child::after {align-self: flex-end;width: 50%;}#sk-container-id-1 div.sk-parallel-item:last-child::after {align-self: flex-start;width: 50%;}#sk-container-id-1 div.sk-parallel-item:only-child::after {width: 0;}#sk-container-id-1 div.sk-dashed-wrapped {border: 1px dashed gray;margin: 0 0.4em 0.5em 0.4em;box-sizing: border-box;padding-bottom: 0.4em;background-color: white;}#sk-container-id-1 div.sk-label label {font-family: monospace;font-weight: bold;display: inline-block;line-height: 1.2em;}#sk-container-id-1 div.sk-label-container {text-align: center;}#sk-container-id-1 div.sk-container {/* jupyter's `normalize.less` sets `[hidden] { display: none; }` but bootstrap.min.css set `[hidden] { display: none !important; }` so we also need the `!important` here to be able to override the default hidden behavior on the sphinx rendered scikit-learn.org. See: https://github.com/scikit-learn/scikit-learn/issues/21755 */display: inline-block !important;position: relative;}#sk-container-id-1 div.sk-text-repr-fallback {display: none;}</style><div id=\"sk-container-id-1\" class=\"sk-top-container\"><div class=\"sk-text-repr-fallback\"><pre>LinearRegression()</pre><b>In a Jupyter environment, please rerun this cell to show the HTML representation or trust the notebook. <br />On GitHub, the HTML representation is unable to render, please try loading this page with nbviewer.org.</b></div><div class=\"sk-container\" hidden><div class=\"sk-item\"><div class=\"sk-estimator sk-toggleable\"><input class=\"sk-toggleable__control sk-hidden--visually\" id=\"sk-estimator-id-1\" type=\"checkbox\" checked><label for=\"sk-estimator-id-1\" class=\"sk-toggleable__label sk-toggleable__label-arrow\">LinearRegression</label><div class=\"sk-toggleable__content\"><pre>LinearRegression()</pre></div></div></div></div></div>"
            ]
          },
          "metadata": {},
          "execution_count": 23
        }
      ]
    },
    {
      "cell_type": "markdown",
      "source": [
        "Now we shall find out the y=mx+c values, first the intercept and then the slope to get the predicted values using the selected model for analysis."
      ],
      "metadata": {
        "id": "mQunSJJPJ54a"
      }
    },
    {
      "cell_type": "code",
      "source": [
        "model.intercept_"
      ],
      "metadata": {
        "colab": {
          "base_uri": "https://localhost:8080/"
        },
        "id": "vikR6Rn4GlUv",
        "outputId": "ca7dfe93-1ab0-4fcd-c4fa-05e6baa33206"
      },
      "execution_count": null,
      "outputs": [
        {
          "output_type": "execute_result",
          "data": {
            "text/plain": [
              "-1.3491869284562994"
            ]
          },
          "metadata": {},
          "execution_count": 24
        }
      ]
    },
    {
      "cell_type": "code",
      "source": [
        "model.coef_"
      ],
      "metadata": {
        "colab": {
          "base_uri": "https://localhost:8080/"
        },
        "id": "3QNmOQ2YGpaA",
        "outputId": "07f37251-664f-4bad-e427-2a444063277e"
      },
      "execution_count": null,
      "outputs": [
        {
          "output_type": "execute_result",
          "data": {
            "text/plain": [
              "array([ 0.00018075,  0.00217672,  0.00396487,  0.00836627, -0.00080004,\n",
              "        0.02030329,  0.09551552,  0.01979659])"
            ]
          },
          "metadata": {},
          "execution_count": 25
        }
      ]
    },
    {
      "cell_type": "markdown",
      "source": [
        "Now we shall find the predicted values of the data."
      ],
      "metadata": {
        "id": "kZi_hN6kKHHR"
      }
    },
    {
      "cell_type": "code",
      "source": [
        "y_pred = model.predict(x_test)"
      ],
      "metadata": {
        "id": "9Ku0KiDYGspg"
      },
      "execution_count": null,
      "outputs": []
    },
    {
      "cell_type": "code",
      "source": [
        "y_pred"
      ],
      "metadata": {
        "colab": {
          "base_uri": "https://localhost:8080/"
        },
        "id": "RuvuUtl4HAj4",
        "outputId": "ec5ae926-8716-46b1-ac94-6278d9340585"
      },
      "execution_count": null,
      "outputs": [
        {
          "output_type": "execute_result",
          "data": {
            "text/plain": [
              "array([0.71638511, 0.75610311, 0.68760789, 0.68124699, 0.56927168,\n",
              "       0.91423484, 0.90562753, 0.72569757, 0.79088749, 0.59675934,\n",
              "       0.59489304, 0.80774252, 0.54572472, 0.77132503, 0.8737274 ,\n",
              "       0.66751677, 0.61934136, 0.67447953, 0.73484064, 0.84425246,\n",
              "       0.62922545, 0.86090216, 0.82814605, 0.9151533 , 0.68755296,\n",
              "       0.63544487, 0.6134806 , 0.57723203, 0.51557048, 0.61715529,\n",
              "       0.52595747, 0.76388331, 0.69695739, 0.75953801, 0.62049587,\n",
              "       0.53097396, 0.40200383, 0.87065079, 0.92286173, 0.78952969,\n",
              "       0.71932513, 0.73604218, 0.70278395, 0.90704   , 0.80062706,\n",
              "       0.81781888, 0.91769447, 0.86667679, 0.58887763, 0.48098577,\n",
              "       0.62564848, 0.61917228, 0.8041983 , 0.46620308, 0.71182598,\n",
              "       0.74243792, 0.69141228, 0.63484399, 0.82789223, 0.6680648 ,\n",
              "       0.64158042, 0.93553342, 0.66537654, 0.65115639, 0.73074156,\n",
              "       0.69630576, 0.59954454, 0.91516057, 0.57456458, 0.90601273,\n",
              "       0.5702746 , 0.92658714, 0.62468054, 0.71689836, 0.5250502 ,\n",
              "       0.86364436, 0.60792138, 0.72722255, 0.66042681, 0.82080932,\n",
              "       0.7225671 , 0.89929811, 0.67637301, 0.49554676, 0.75688317,\n",
              "       0.64865133, 0.77128243, 0.57848782, 0.79141629, 0.67201156,\n",
              "       0.68439077, 0.68509744, 0.91922614, 0.67840876, 0.65244089,\n",
              "       0.64779263, 0.77551969, 0.67516585, 0.76765527, 0.60929075,\n",
              "       0.96500346, 0.69771574, 0.97109768, 0.8244446 , 0.80824716,\n",
              "       0.86627331, 0.65875764, 0.69147515, 0.60381244, 0.59431034,\n",
              "       0.81010835, 0.69414677, 0.76932107, 0.57984938, 0.54290832,\n",
              "       0.73859636, 0.70651852, 0.62741334, 0.84271712, 0.66928116])"
            ]
          },
          "metadata": {},
          "execution_count": 30
        }
      ]
    },
    {
      "cell_type": "markdown",
      "source": [
        "Now let us identify the error in the analysis using skelarn library ."
      ],
      "metadata": {
        "id": "fVhtkTZXKNFj"
      }
    },
    {
      "cell_type": "code",
      "source": [
        "from sklearn.metrics import mean_absolute_error, mean_absolute_percentage_error,mean_squared_error"
      ],
      "metadata": {
        "id": "wwm9XCxYHIZ1"
      },
      "execution_count": null,
      "outputs": []
    },
    {
      "cell_type": "code",
      "source": [
        "mean_absolute_error(y_test,y_pred)"
      ],
      "metadata": {
        "colab": {
          "base_uri": "https://localhost:8080/"
        },
        "id": "Vhb4oPJbHaEv",
        "outputId": "e2427330-0dfb-4dc7-a9c6-63bf06c38a43"
      },
      "execution_count": null,
      "outputs": [
        {
          "output_type": "execute_result",
          "data": {
            "text/plain": [
              "0.043087147233558505"
            ]
          },
          "metadata": {},
          "execution_count": 32
        }
      ]
    },
    {
      "cell_type": "code",
      "source": [
        "mean_absolute_percentage_error(y_test,y_pred)"
      ],
      "metadata": {
        "colab": {
          "base_uri": "https://localhost:8080/"
        },
        "id": "W3smf7vuHjkJ",
        "outputId": "0243e07a-8d0a-4437-b614-09967a250297"
      },
      "execution_count": null,
      "outputs": [
        {
          "output_type": "execute_result",
          "data": {
            "text/plain": [
              "0.07400437276133896"
            ]
          },
          "metadata": {},
          "execution_count": 33
        }
      ]
    },
    {
      "cell_type": "code",
      "source": [
        "mean_squared_error(y_test,y_pred)"
      ],
      "metadata": {
        "colab": {
          "base_uri": "https://localhost:8080/"
        },
        "id": "7RfDiL_7Hu2O",
        "outputId": "5b0604da-e594-48b7-8fcb-911f50972114"
      },
      "execution_count": null,
      "outputs": [
        {
          "output_type": "execute_result",
          "data": {
            "text/plain": [
              "0.003922607781791491"
            ]
          },
          "metadata": {},
          "execution_count": 34
        }
      ]
    },
    {
      "cell_type": "markdown",
      "source": [
        "Now the accuracy is calculated by subtracting 100% - the mean error we found out using the sklearn library.\n",
        "\n",
        "> Indented block\n",
        "\n"
      ],
      "metadata": {
        "id": "tgjPgfeFKWQ0"
      }
    }
  ]
}